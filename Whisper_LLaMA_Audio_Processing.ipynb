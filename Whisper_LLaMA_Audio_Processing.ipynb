{
  "nbformat": 4,
  "nbformat_minor": 0,
  "metadata": {
    "colab": {
      "provenance": [],
      "gpuType": "T4",
      "authorship_tag": "ABX9TyOQGeBbZUV+hTW8a7XbN5sI",
      "include_colab_link": true
    },
    "kernelspec": {
      "name": "python3",
      "display_name": "Python 3"
    },
    "language_info": {
      "name": "python"
    },
    "accelerator": "GPU"
  },
  "cells": [
    {
      "cell_type": "markdown",
      "metadata": {
        "id": "view-in-github",
        "colab_type": "text"
      },
      "source": [
        "<a href=\"https://colab.research.google.com/github/tarunku/open_llm/blob/main/Whisper_LLaMA_Audio_Processing.ipynb\" target=\"_parent\"><img src=\"https://colab.research.google.com/assets/colab-badge.svg\" alt=\"Open In Colab\"/></a>"
      ]
    },
    {
      "cell_type": "markdown",
      "source": [
        "## Summary\n",
        "This notebook enables:\n",
        "1. **Audio transcription** using OpenAI Whisper and an open-source alternative.\n",
        "2. **Meeting minutes generation** using LLaMA with structured summaries.\n",
        "3. **Efficient inference** using 4-bit quantization.\n",
        "\n",
        "The combination of OpenAI Whisper and Meta LLaMA enables accurate meeting transcription and summarization in Markdown format.\n",
        "\n"
      ],
      "metadata": {
        "id": "aZdFlzCDCG_0"
      }
    },
    {
      "cell_type": "markdown",
      "source": [
        "## Setup and Dependencies\n",
        "The notebook installs and configures the necessary dependencies:"
      ],
      "metadata": {
        "id": "HJgDLNKeCSUa"
      }
    },
    {
      "cell_type": "code",
      "source": [
        "!pip uninstall fsspec\n",
        "!pip install fsspec==2025.3.0\n",
        "!pip install -q requests torch bitsandbytes transformers sentencepiece accelerate openai httpx==0.27.2"
      ],
      "metadata": {
        "collapsed": true,
        "id": "w76lf5pbukd_"
      },
      "execution_count": null,
      "outputs": []
    },
    {
      "cell_type": "markdown",
      "source": [
        "### Library Imports\n",
        "The following key libraries are used:\n",
        "- `requests`: For making HTTP requests\n",
        "- `torch`: For deep learning model inference\n",
        "- `bitsandbytes`: Quantization support for LLaMA model\n",
        "- `transformers`: For NLP and ASR models\n",
        "- `openai`: OpenAI API integration\n",
        "- `google.colab`: For Colab-specific functions\n",
        "- `huggingface_hub`: Hugging Face authentication"
      ],
      "metadata": {
        "id": "NLVCqS4BCbXx"
      }
    },
    {
      "cell_type": "code",
      "source": [
        "# imports\n",
        "\n",
        "import os\n",
        "import requests\n",
        "from IPython.display import Markdown, display, update_display\n",
        "from openai import OpenAI\n",
        "from google.colab import drive\n",
        "from huggingface_hub import login\n",
        "from google.colab import userdata\n",
        "from transformers import AutoTokenizer, AutoModelForCausalLM, TextStreamer, BitsAndBytesConfig, AutoModelForSpeechSeq2Seq\n",
        "import torch"
      ],
      "metadata": {
        "id": "RSFb_qBIsXAF"
      },
      "execution_count": null,
      "outputs": []
    },
    {
      "cell_type": "markdown",
      "source": [
        "## Authentication and Drive Setup\n",
        "The notebook retrieves API tokens from Google Colab's secret storage:\n"
      ],
      "metadata": {
        "id": "RwcC-pVpCe42"
      }
    },
    {
      "cell_type": "code",
      "source": [
        "hf_token = userdata.get('HF_TOKEN')\n",
        "login(hf_token, add_to_git_credential=True)\n",
        "\n",
        "# Sign in to OpenAI using Secrets in Colab\n",
        "\n",
        "openai_api_key = userdata.get('OPENAI_API_KEY')\n",
        "openai = OpenAI(api_key=openai_api_key)\n",
        "\n",
        "drive.mount(\"/content/drive\")\n",
        "audio_filename = \"/content/drive/MyDrive/__tmp/llms/Meeting Recording.mp3\""
      ],
      "metadata": {
        "id": "Hmb0Eq1-sdHc"
      },
      "execution_count": null,
      "outputs": []
    },
    {
      "cell_type": "markdown",
      "source": [
        "## Model Selection and Configuration\n",
        "The notebook sets up OpenAI Whisper for transcription and Meta's LLaMA model for text generation:"
      ],
      "metadata": {
        "id": "nUxqsCvgCqPN"
      }
    },
    {
      "cell_type": "code",
      "source": [
        "# Constants\n",
        "AUDIO_MODEL = \"whisper-1\"\n",
        "LLAMA = \"meta-llama/Meta-Llama-3.1-8B-Instruct\""
      ],
      "metadata": {
        "id": "TLeOIy4BwbOh"
      },
      "execution_count": null,
      "outputs": []
    },
    {
      "cell_type": "markdown",
      "source": [
        "### Audio Transcription with OpenAI Whisper\n",
        "The notebook reads the audio file and converts it to text using OpenAI Whisper:"
      ],
      "metadata": {
        "id": "ZypzNTdHCzM1"
      }
    },
    {
      "cell_type": "code",
      "source": [
        "# Use the Whisper OpenAI model to convert the Audio to Text\n",
        "# If you'd prefer to use an Open Source model\n",
        "# which I've added to the bottom of this colab\n",
        "\n",
        "audio_file = open(audio_filename, \"rb\")\n",
        "transcription = openai.audio.transcriptions.create(model=AUDIO_MODEL, file=audio_file, response_format=\"text\")\n",
        "print(transcription)"
      ],
      "metadata": {
        "id": "P7oQ1izUwPQ1"
      },
      "execution_count": null,
      "outputs": []
    },
    {
      "cell_type": "markdown",
      "source": [
        "## Meeting Minutes Generation\n",
        "Prompt processes the transcript to generate structured meeting minutes in Markdown format:\n"
      ],
      "metadata": {
        "id": "AWkWfwl3C68T"
      }
    },
    {
      "cell_type": "code",
      "source": [
        "system_message = \"You are an assistant that produces minutes of meetings from transcripts, with summary, key discussion points, takeaways and action items with owners, in markdown.\"\n",
        "user_prompt = f\"Below is an extract transcript of a CPTS Architecture Forum meeting. Please write minutes in markdown, including a summary with attendees, location and date; discussion points; takeaways; and action items with owners.\\n{transcription}\"\n",
        "\n",
        "messages = [\n",
        "    {\"role\": \"system\", \"content\": system_message},\n",
        "    {\"role\": \"user\", \"content\": user_prompt}\n",
        "  ]\n"
      ],
      "metadata": {
        "id": "Qs0BRhzRzKQ4"
      },
      "execution_count": null,
      "outputs": []
    },
    {
      "cell_type": "markdown",
      "source": [
        "## Model Configuration for Summarization\n",
        "The notebook configures a 4-bit quantization setup for LLaMA:"
      ],
      "metadata": {
        "id": "fzHnP2kBDAO3"
      }
    },
    {
      "cell_type": "code",
      "source": [
        "quant_config = BitsAndBytesConfig(\n",
        "    load_in_4bit=True,\n",
        "    bnb_4bit_use_double_quant=True,\n",
        "    bnb_4bit_compute_dtype=torch.bfloat16,\n",
        "    bnb_4bit_quant_type=\"nf4\"\n",
        ")"
      ],
      "metadata": {
        "id": "dfgbz-vvzcAA"
      },
      "execution_count": null,
      "outputs": []
    },
    {
      "cell_type": "markdown",
      "source": [
        "## LLaMA Tokenization and Inference\n",
        "The LLaMA model is loaded and used to process the transcript:"
      ],
      "metadata": {
        "id": "MM1MYT0lDHHU"
      }
    },
    {
      "cell_type": "code",
      "source": [
        "\n",
        "tokenizer = AutoTokenizer.from_pretrained(LLAMA)\n",
        "tokenizer.pad_token = tokenizer.eos_token\n",
        "inputs = tokenizer.apply_chat_template(messages, return_tensors=\"pt\").to(\"cuda\")\n",
        "streamer = TextStreamer(tokenizer)\n",
        "model = AutoModelForCausalLM.from_pretrained(LLAMA, device_map=\"auto\", quantization_config=quant_config)\n",
        "outputs = model.generate(inputs, max_new_tokens=2000, streamer=streamer)\n"
      ],
      "metadata": {
        "id": "9C23QGEEzesO"
      },
      "execution_count": null,
      "outputs": []
    },
    {
      "cell_type": "code",
      "source": [
        "response = tokenizer.decode(outputs[0])\n",
        "display(Markdown(response))"
      ],
      "metadata": {
        "id": "J3wt28-EzoTz"
      },
      "execution_count": null,
      "outputs": []
    },
    {
      "cell_type": "markdown",
      "source": [
        "## Alternative Open-Source Whisper Implementation\n",
        "The notebook also provides an alternative transcription approach using an open-source Whisper model:"
      ],
      "metadata": {
        "id": "b0RFy7qI1lRj"
      }
    },
    {
      "cell_type": "code",
      "source": [
        "from transformers import AutoTokenizer, AutoModelForCausalLM, TextStreamer, BitsAndBytesConfig, AutoModelForSpeechSeq2Seq, AutoProcessor, pipeline\n",
        "\n",
        "whisper_transcriber = pipeline(\"automatic-speech-recognition\", model=\"openai/whisper-medium\")\n",
        "\n",
        "transcription = whisper_transcriber(audio_filename, return_timestamps=True)\n",
        "print(transcription)\n"
      ],
      "metadata": {
        "id": "FFSjZri11kE4"
      },
      "execution_count": null,
      "outputs": []
    },
    {
      "cell_type": "markdown",
      "source": [
        "## Summary\n",
        "This notebook enables:\n",
        "1. **Audio transcription** using OpenAI Whisper and an open-source alternative.\n",
        "2. **Meeting minutes generation** using LLaMA with structured summaries.\n",
        "3. **Efficient inference** using 4-bit quantization.\n",
        "\n",
        "The combination of OpenAI Whisper and Meta LLaMA enables accurate meeting transcription and summarization in Markdown format.\n",
        "\n"
      ],
      "metadata": {
        "id": "Gvp0PB1WDPGX"
      }
    },
    {
      "cell_type": "code",
      "source": [],
      "metadata": {
        "id": "DnBuVkrqDPaJ"
      },
      "execution_count": null,
      "outputs": []
    }
  ]
}