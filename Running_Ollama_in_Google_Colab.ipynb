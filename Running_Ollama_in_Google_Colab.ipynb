{
  "nbformat": 4,
  "nbformat_minor": 0,
  "metadata": {
    "colab": {
      "provenance": [],
      "gpuType": "T4",
      "authorship_tag": "ABX9TyNVXGK4yDwtg5hfcQkNqzXi",
      "include_colab_link": true
    },
    "kernelspec": {
      "name": "python3",
      "display_name": "Python 3"
    },
    "language_info": {
      "name": "python"
    },
    "accelerator": "GPU"
  },
  "cells": [
    {
      "cell_type": "markdown",
      "metadata": {
        "id": "view-in-github",
        "colab_type": "text"
      },
      "source": [
        "<a href=\"https://colab.research.google.com/github/tarunku/open_llm/blob/main/Running_Ollama_in_Google_Colab.ipynb\" target=\"_parent\"><img src=\"https://colab.research.google.com/assets/colab-badge.svg\" alt=\"Open In Colab\"/></a>"
      ]
    },
    {
      "cell_type": "markdown",
      "source": [
        "**let’s launch the xterm terminal within our Colab cell**"
      ],
      "metadata": {
        "id": "qUoZnohWUflt"
      }
    },
    {
      "cell_type": "code",
      "source": [
        "!pip install colab-xterm\n",
        "!curl https://ollama.ai/install.sh | sh\n",
        "%load_ext colabxterm"
      ],
      "metadata": {
        "id": "DOV17X-MRR9r"
      },
      "execution_count": null,
      "outputs": []
    },
    {
      "cell_type": "code",
      "source": [
        "%xterm\n",
        " # ollama serve &"
      ],
      "metadata": {
        "id": "IdORs51XUu0k"
      },
      "execution_count": null,
      "outputs": []
    },
    {
      "cell_type": "code",
      "source": [
        "!ollama pull llama3\n",
        "!ollama pull mistral"
      ],
      "metadata": {
        "collapsed": true,
        "id": "F3qnKgxRaQzr"
      },
      "execution_count": null,
      "outputs": []
    },
    {
      "cell_type": "code",
      "source": [
        "!ollama list"
      ],
      "metadata": {
        "id": "LZcvakbVVUG0"
      },
      "execution_count": null,
      "outputs": []
    },
    {
      "cell_type": "code",
      "source": [
        "!ollama --version"
      ],
      "metadata": {
        "id": "ormiJzbpRzfc"
      },
      "execution_count": null,
      "outputs": []
    },
    {
      "cell_type": "code",
      "source": [
        "!pip install -qU langchain langchain_community langchain-ollama"
      ],
      "metadata": {
        "id": "j9USi4zxTGFc"
      },
      "execution_count": null,
      "outputs": []
    },
    {
      "cell_type": "code",
      "source": [
        "from IPython.display import display, Markdown\n",
        "from langchain.llms import Ollama\n",
        "from langchain.prompts.prompt import PromptTemplate\n",
        "from langchain.schema import (\n",
        "    AIMessage,\n",
        "    HumanMessage,\n",
        "    SystemMessage\n",
        ")\n",
        "\n",
        "#llm = ChatOllama(model=\"llama3\")\n",
        "llm = ChatOllama(model=\"mistral\")\n",
        "\n",
        "# Correct way to interact with the LLM using LangChain\n",
        "messages = [\n",
        "    SystemMessage(content=\"you are a helpful assistant that reply in markdown format.\"),\n",
        "    HumanMessage(content=\"i have some rice and vegetables, what should i cook tonight?\")\n",
        "]\n",
        "response = llm(messages)\n",
        "\n",
        "display(Markdown(response.content))"
      ],
      "metadata": {
        "id": "gX9Wu0eBb6bc"
      },
      "execution_count": null,
      "outputs": []
    },
    {
      "cell_type": "code",
      "source": [
        "from langchain.chat_models import ChatOllama\n",
        "from langchain.prompts.prompt import PromptTemplate\n",
        "\n",
        "\n",
        "information = \"\"\"\n",
        "        Elon Reeve Musk (/ˈiːlɒn/; EE-lon; born June 28, 1971) is a businessman and investor. He is the founder, chairman, CEO, and CTO of SpaceX; angel investor, CEO, product architect and former chairman of Tesla, Inc.; owner, chairman and CTO of X Corp.; founder of the Boring Company and xAI; co-founder of Neuralink and OpenAI; and president of the Musk Foundation. He is the wealthiest person in the world, with an estimated net worth of US$232 billion as of December 2023, according to the Bloomberg Billionaires Index, and $254 billion according to Forbes, primarily from his ownership stakes in Tesla and SpaceX.[5][6]\n",
        "\n",
        "A member of the wealthy South African Musk family, Elon was born in Pretoria and briefly attended the University of Pretoria before immigrating to Canada at age 18, acquiring citizenship through his Canadian-born mother. Two years later, he matriculated at Queen's University at Kingston in Canada. Musk later transferred to the University of Pennsylvania, and received bachelor's degrees in economics and physics. He moved to California in 1995 to attend Stanford University. However, Musk dropped out after two days and, with his brother Kimbal, co-founded online city guide software company Zip2. The startup was acquired by Compaq for $307 million in 1999, and, that same year Musk co-founded X.com, a direct bank. X.com merged with Confinity in 2000 to form PayPal.\n",
        "\n",
        "In October 2002, eBay acquired PayPal for $1.5 billion, and that same year, with $100 million of the money he made, Musk founded SpaceX, a spaceflight services company. In 2004, he became an early investor in electric vehicle manufacturer Tesla Motors, Inc. (now Tesla, Inc.). He became its chairman and product architect, assuming the position of CEO in 2008. In 2006, Musk helped create SolarCity, a solar-energy company that was acquired by Tesla in 2016 and became Tesla Energy. In 2013, he proposed a hyperloop high-speed vactrain transportation system. In 2015, he co-founded OpenAI, a nonprofit artificial intelligence research company. The following year, Musk co-founded Neuralink—a neurotechnology company developing brain–computer interfaces—and the Boring Company, a tunnel construction company. In 2022, he acquired Twitter for $44 billion. He subsequently merged the company into newly created X Corp. and rebranded the service as X the following year. In March 2023, he founded xAI, an artificial intelligence company.\n",
        "\n",
        "    \"\"\"\n",
        "\n",
        "summary_template = \"\"\"\n",
        "    given the information {information} about a person I want you to create:\n",
        "    1. A short summary\n",
        "    2. two interesting facts about them\n",
        "    \"\"\"\n",
        "\n",
        "summary_prompt_template = PromptTemplate(\n",
        "        input_variables=[\"information\"], template=summary_template\n",
        "    )\n",
        "\n",
        "#llm = HuggingFacePipeline(pipeline=pipeline)\n",
        "#llm = ChatOllama(model=\"mistral\")\n",
        "llm = ChatOllama(model=\"llama3\")\n",
        "\n",
        "chain = summary_prompt_template | llm\n",
        "res = chain.invoke(input={\"information\": information})\n",
        "\n",
        "print(res)\n"
      ],
      "metadata": {
        "id": "eUN-3e78ZFsM"
      },
      "execution_count": null,
      "outputs": []
    }
  ]
}