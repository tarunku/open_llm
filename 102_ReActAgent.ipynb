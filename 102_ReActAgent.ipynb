{
  "nbformat": 4,
  "nbformat_minor": 0,
  "metadata": {
    "colab": {
      "provenance": [],
      "authorship_tag": "ABX9TyNs07lvPUrI5kzmh10zU93F",
      "include_colab_link": true
    },
    "kernelspec": {
      "name": "python3",
      "display_name": "Python 3"
    },
    "language_info": {
      "name": "python"
    }
  },
  "cells": [
    {
      "cell_type": "markdown",
      "metadata": {
        "id": "view-in-github",
        "colab_type": "text"
      },
      "source": [
        "<a href=\"https://colab.research.google.com/github/tarunku/open_llm/blob/main/102_ReActAgent.ipynb\" target=\"_parent\"><img src=\"https://colab.research.google.com/assets/colab-badge.svg\" alt=\"Open In Colab\"/></a>"
      ]
    },
    {
      "cell_type": "code",
      "execution_count": null,
      "metadata": {
        "id": "SSjUvhNokL7n"
      },
      "outputs": [],
      "source": [
        "!pip install -qU langchain langchain_community langchainhub langchain-openai langgraph"
      ]
    },
    {
      "cell_type": "code",
      "source": [
        "import os\n",
        "from langchain.chat_models import ChatOpenAI\n",
        "from google.colab import userdata\n",
        "\n",
        "os.environ['OPENAI_API_KEY'] = userdata.get('OPENAI_API_KEY')\n",
        "os.environ[\"LANGSMITH_API_KEY\"] = userdata.get(\"LANGSMITH_API_KEY\")\n",
        "os.environ[\"LANGSMITH_PROJECT\"] = userdata.get(\"LANGSMITH_PROJECT\")\n",
        "os.environ[\"LANGSMITH_ENDPOINT\"] = userdata.get(\"LANGSMITH_ENDPOINT\")\n",
        "os.environ[\"LANGCHAIN_TRACING_V2\"] = \"true\"\n"
      ],
      "metadata": {
        "id": "mVyOVgFLkivX"
      },
      "execution_count": 1,
      "outputs": []
    },
    {
      "cell_type": "code",
      "source": [
        "llm = ChatOpenAI(model_name=\"gpt-4o-mini\", openai_api_key=userdata.get('OPENAI_API_KEY'))\n"
      ],
      "metadata": {
        "colab": {
          "base_uri": "https://localhost:8080/"
        },
        "id": "NSLGwWWe7yY-",
        "outputId": "8a05709b-16d9-453e-d9be-3ff1b5523a58"
      },
      "execution_count": 2,
      "outputs": [
        {
          "output_type": "stream",
          "name": "stderr",
          "text": [
            "<ipython-input-2-7167b0a4fcd9>:2: LangChainDeprecationWarning: The class `ChatOpenAI` was deprecated in LangChain 0.0.10 and will be removed in 1.0. An updated version of the class exists in the :class:`~langchain-openai package and should be used instead. To use it run `pip install -U :class:`~langchain-openai` and import as `from :class:`~langchain_openai import ChatOpenAI``.\n",
            "  llm = ChatOpenAI(model_name=\"gpt-4o-mini\", openai_api_key=userdata.get('OPENAI_API_KEY'))\n"
          ]
        }
      ]
    },
    {
      "cell_type": "code",
      "source": [
        "from langchain.prompts.prompt import PromptTemplate\n",
        "from langchain_core.tools import tool\n",
        "from langchain.agents import (\n",
        "    create_react_agent,\n",
        "    AgentExecutor\n",
        ")\n",
        "\n",
        "from langchain import hub\n",
        "import inflect\n",
        "import re"
      ],
      "metadata": {
        "id": "mg76geZ78E1-"
      },
      "execution_count": 3,
      "outputs": []
    },
    {
      "cell_type": "code",
      "source": [
        "@tool(name_or_callable='next_num_tool')\n",
        "def next_num(a) -> str:\n",
        "    \"\"\"get the next number.\"\"\"\n",
        "    return inflect.engine().number_to_words(int(a) + 12)\n",
        "\n"
      ],
      "metadata": {
        "id": "UhxCBbVV8ZYi"
      },
      "execution_count": 4,
      "outputs": []
    },
    {
      "cell_type": "code",
      "source": [
        "def agent_007(user_query: str):\n",
        "  template = '''\n",
        "    You are a smart math assistant designed to compute the next number based on a given input.\n",
        "\n",
        "    You have access to the following tool:\n",
        "\n",
        "    **next_num(a: int):** Returns the next number by adding 12 to the given input and converting it to words.\n",
        "\n",
        "    When given a user query, determine whether it requires this tool. If it does, use the tool to perform the calculation and return only the final result.\n",
        "\n",
        "    If the available tool is not sufficient to answer the query, respond with: \"I can't handle this query.\"\n",
        "\n",
        "    -----------\n",
        "    Now here is the user query: {user_query}\n",
        "    '''\n",
        "\n",
        "  prompt_template = PromptTemplate(\n",
        "        template=template, input_variables=[\"user_query\"]\n",
        "    )\n",
        "\n",
        "  react_prompt = hub.pull(\"hwchase17/react\")\n",
        "\n",
        "  tools = [next_num]  # Ensure tools are correctly referenced\n",
        "\n",
        "  agent = create_react_agent(llm=llm, tools=tools, prompt=react_prompt)\n",
        "  agent_executor = AgentExecutor(\n",
        "        agent=agent, # Pass the agent instance here\n",
        "        tools=tools,\n",
        "        verbose=True,\n",
        "        handle_parsing_errors=True,\n",
        "        max_iterations=3,\n",
        "        max_execution_time=60\n",
        "    )\n",
        "  result = agent_executor.invoke(\n",
        "        input={\"input\": prompt_template.format_prompt(user_query=user_query)}\n",
        "    )\n",
        "\n",
        "  return result[\"output\"]\n",
        "\n"
      ],
      "metadata": {
        "id": "mnY6VlAK8Puk"
      },
      "execution_count": 5,
      "outputs": []
    },
    {
      "cell_type": "code",
      "source": [
        "agent_007('what next of 0 ?')"
      ],
      "metadata": {
        "colab": {
          "base_uri": "https://localhost:8080/",
          "height": 214
        },
        "id": "yBFa4Nxa8onR",
        "outputId": "97c5aa33-4d9c-4960-d428-5a44d395830a"
      },
      "execution_count": 6,
      "outputs": [
        {
          "output_type": "stream",
          "name": "stdout",
          "text": [
            "\n",
            "\n",
            "\u001b[1m> Entering new AgentExecutor chain...\u001b[0m\n",
            "\u001b[32;1m\u001b[1;3mTo determine the next number after 0, I'll need to use the provided tool that adds 12 to the input number. \n",
            "\n",
            "Action: next_num_tool  \n",
            "Action Input: 0  \u001b[0m\u001b[36;1m\u001b[1;3mtwelve\u001b[0m\u001b[32;1m\u001b[1;3mI now know the final answer.  \n",
            "Final Answer: twelve\u001b[0m\n",
            "\n",
            "\u001b[1m> Finished chain.\u001b[0m\n"
          ]
        },
        {
          "output_type": "execute_result",
          "data": {
            "text/plain": [
              "'twelve'"
            ],
            "application/vnd.google.colaboratory.intrinsic+json": {
              "type": "string"
            }
          },
          "metadata": {},
          "execution_count": 6
        }
      ]
    }
  ]
}