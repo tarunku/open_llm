{
  "nbformat": 4,
  "nbformat_minor": 0,
  "metadata": {
    "colab": {
      "provenance": [],
      "authorship_tag": "ABX9TyPUX1t5/yDjrQSIBlJimVpL",
      "include_colab_link": true
    },
    "kernelspec": {
      "name": "python3",
      "display_name": "Python 3"
    },
    "language_info": {
      "name": "python"
    }
  },
  "cells": [
    {
      "cell_type": "markdown",
      "metadata": {
        "id": "view-in-github",
        "colab_type": "text"
      },
      "source": [
        "<a href=\"https://colab.research.google.com/github/tarunku/open_llm/blob/main/102_ReActAgent.ipynb\" target=\"_parent\"><img src=\"https://colab.research.google.com/assets/colab-badge.svg\" alt=\"Open In Colab\"/></a>"
      ]
    },
    {
      "cell_type": "code",
      "source": [
        "! pip install word2number"
      ],
      "metadata": {
        "collapsed": true,
        "id": "CqNjsJY5GCTX"
      },
      "execution_count": null,
      "outputs": []
    },
    {
      "cell_type": "code",
      "execution_count": null,
      "metadata": {
        "id": "SSjUvhNokL7n"
      },
      "outputs": [],
      "source": [
        "!pip install -qU langchain langchain_community langchainhub langchain-openai langgraph"
      ]
    },
    {
      "cell_type": "code",
      "source": [
        "import os\n",
        "from langchain.chat_models import ChatOpenAI\n",
        "from google.colab import userdata\n",
        "\n",
        "os.environ['OPENAI_API_KEY'] = userdata.get('OPENAI_API_KEY')\n",
        "os.environ[\"LANGSMITH_API_KEY\"] = userdata.get(\"LANGSMITH_API_KEY\")\n",
        "os.environ[\"LANGSMITH_PROJECT\"] = userdata.get(\"LANGSMITH_PROJECT\")\n",
        "os.environ[\"LANGSMITH_ENDPOINT\"] = userdata.get(\"LANGSMITH_ENDPOINT\")\n",
        "os.environ[\"LANGCHAIN_TRACING_V2\"] = \"true\"\n"
      ],
      "metadata": {
        "id": "mVyOVgFLkivX"
      },
      "execution_count": null,
      "outputs": []
    },
    {
      "cell_type": "code",
      "source": [
        "llm = ChatOpenAI(model_name=\"gpt-4o-mini\", openai_api_key=userdata.get('OPENAI_API_KEY'))\n"
      ],
      "metadata": {
        "id": "NSLGwWWe7yY-"
      },
      "execution_count": null,
      "outputs": []
    },
    {
      "cell_type": "code",
      "source": [
        "from langchain.prompts.prompt import PromptTemplate\n",
        "from langchain_core.tools import tool\n",
        "from langchain.agents import (\n",
        "    create_react_agent,\n",
        "    AgentExecutor\n",
        ")\n",
        "\n",
        "from langchain import hub\n",
        "import inflect\n",
        "import re"
      ],
      "metadata": {
        "id": "mg76geZ78E1-"
      },
      "execution_count": null,
      "outputs": []
    },
    {
      "cell_type": "code",
      "source": [
        "def parsing_multiplier(string):\n",
        "  numbers = re.findall(r'\\d+', string )\n",
        "  return int(numbers[0]), int(numbers[1])\n",
        "\n",
        "a, b = parsing_multiplier('2, 4')\n",
        "\n",
        "print(a)\n",
        "print(b)\n",
        "\n",
        "@tool(name_or_callable='next_num_tool')\n",
        "def next_num(a:int) -> str:\n",
        "    \"\"\"get the next number.\"\"\"\n",
        "    return inflect.engine().number_to_words(int(a) + 12)\n",
        "\n",
        "\n",
        "@tool(name_or_callable='addition_tool')\n",
        "def add(input:str) -> str:\n",
        "    \"\"\"get sum of two numbers.\"\"\"\n",
        "    #a, b = parsing_multiplier(numbers)\n",
        "    a, b = parsing_multiplier(input)\n",
        "    return inflect.engine().number_to_words(int(a) + int(b))\n"
      ],
      "metadata": {
        "id": "UhxCBbVV8ZYi"
      },
      "execution_count": null,
      "outputs": []
    },
    {
      "cell_type": "code",
      "source": [
        "def agent_007(user_query: str):\n",
        "  template_1 = '''\n",
        "    You are a smart math assistant designed to compute the next number based on a given input, and sum of two numbers based on given inoouts.\n",
        "\n",
        "    You have access to the following tool:\n",
        "\n",
        "    **next_num(a: int):** Returns the next number by adding 12 to the given input and converting it to words.\n",
        "    **add(a: int, b: int):** Returns the sum of given numbers in input and converting it to words.\n",
        "\n",
        "    When given a user query, determine whether it requires this tool. If it does, use appropriate tool to perform the calculation and return only the final numeric result.\n",
        "\n",
        "    If the available tool is not sufficient to answer the query, respond with: \"I can't handle this query.\"\n",
        "\n",
        "    -----------\n",
        "    Now here is the user query: {user_query}\n",
        "    '''\n",
        "\n",
        "  template = '''\n",
        "    You are a smart math assistant capable of performing two specific calculations:\n",
        "\n",
        "    - **next_num(a: int):** Adds 12 to the given input and returns the result in words.\n",
        "    - **add(a: int, b: int):** Computes the sum of two numbers and returns the result in words.\n",
        "\n",
        "    When given a user query:\n",
        "    - Identify whether it requires one of the available tools.\n",
        "    - If so, use the appropriate tool to compute the result and return **only** the final numeric output.\n",
        "    - If the tools are insufficient to answer the query, respond with: **\"I can't handle this query.\"**\n",
        "\n",
        "    -----------\n",
        "    User Query: {user_query}\n",
        "    '''\n",
        "\n",
        "  prompt_template = PromptTemplate(\n",
        "        template=template, input_variables=[\"user_query\"]\n",
        "    )\n",
        "\n",
        "  react_prompt = hub.pull(\"hwchase17/react\")\n",
        "\n",
        "  tools = [next_num, add]  # Ensure tools are correctly referenced\n",
        "\n",
        "  agent = create_react_agent(llm=llm, tools=tools, prompt=react_prompt)\n",
        "  agent_executor = AgentExecutor(\n",
        "        agent=agent, # Pass the agent instance here\n",
        "        tools=tools,\n",
        "        verbose=True,\n",
        "        handle_parsing_errors=True,\n",
        "        max_iterations=10,\n",
        "        max_execution_time=60\n",
        "    )\n",
        "  result = agent_executor.invoke(\n",
        "        input={\"input\": prompt_template.format_prompt(user_query=user_query)}\n",
        "    )\n",
        "\n",
        "  return result[\"output\"]\n",
        "\n"
      ],
      "metadata": {
        "id": "mnY6VlAK8Puk"
      },
      "execution_count": null,
      "outputs": []
    },
    {
      "cell_type": "code",
      "source": [
        "agent_007('next of next of sum of 4 and 6')"
      ],
      "metadata": {
        "id": "yBFa4Nxa8onR"
      },
      "execution_count": null,
      "outputs": []
    },
    {
      "cell_type": "code",
      "source": [
        "agent_007('sum of next of 10 and next of sum of 4 and 6')"
      ],
      "metadata": {
        "id": "LNCJ8iRTDQIN"
      },
      "execution_count": null,
      "outputs": []
    },
    {
      "cell_type": "code",
      "source": [
        "import re\n",
        "from word2number import w2n\n",
        "\n",
        "def extract_numbers(text):\n",
        "    \"\"\"Extract both numeric and word-based numbers from a string and return them as a list of integers.\"\"\"\n",
        "    # Extract numeric values using regex\n",
        "    numeric_numbers = re.findall(r'-?\\d+(\\.\\d+)?', text)\n",
        "    numeric_numbers = [float(num) if '.' in num else int(num) for num in numeric_numbers]\n",
        "\n",
        "    # Extract word-based numbers\n",
        "    words = text.lower().split()\n",
        "    word_numbers = []\n",
        "\n",
        "    for word in words:\n",
        "        try:\n",
        "            word_numbers.append(w2n.word_to_num(word))\n",
        "        except ValueError:\n",
        "            continue  # Skip words that aren't numbers\n",
        "\n",
        "    # Combine and return all numbers\n",
        "    return numeric_numbers + word_numbers\n",
        "\n",
        "\n",
        "def parse_multipliers(text):\n",
        "    \"\"\"Extract exactly two numbers from the text (numeric or word-based) for operations like multiplication.\"\"\"\n",
        "    numbers = extract_numbers(text)\n",
        "\n",
        "    if len(numbers) < 2:\n",
        "        raise ValueError(\"Not enough numbers found in the text for parsing multipliers.\")\n",
        "\n",
        "    return numbers[0], numbers[1]  # Return the first two numbers found\n",
        "\n",
        "\n",
        "# ✅ Example Usage:\n",
        "text = \"Multiply twenty-two by 4\"\n",
        "print(parse_multipliers(text))  # Output: (22, 4)\n",
        "\n",
        "text2 = \"Find the product of seven and 3\"\n",
        "print(parse_multipliers(text2))  # Output: (7, 3)\n"
      ],
      "metadata": {
        "id": "7BSBGVmDDgfT"
      },
      "execution_count": null,
      "outputs": []
    },
    {
      "cell_type": "code",
      "source": [
        "extract_numbers(\"twenty-two and twenty-two\")"
      ],
      "metadata": {
        "id": "8wvjh3kgGANf"
      },
      "execution_count": null,
      "outputs": []
    },
    {
      "cell_type": "code",
      "source": [],
      "metadata": {
        "id": "PKurzVjOGKVf"
      },
      "execution_count": null,
      "outputs": []
    }
  ]
}