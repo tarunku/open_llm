{
  "nbformat": 4,
  "nbformat_minor": 0,
  "metadata": {
    "colab": {
      "provenance": [],
      "gpuType": "T4",
      "authorship_tag": "ABX9TyNgCCqrUKvMwkEgJODEMpoV",
      "include_colab_link": true
    },
    "kernelspec": {
      "name": "python3",
      "display_name": "Python 3"
    },
    "language_info": {
      "name": "python"
    },
    "accelerator": "GPU"
  },
  "cells": [
    {
      "cell_type": "markdown",
      "metadata": {
        "id": "view-in-github",
        "colab_type": "text"
      },
      "source": [
        "<a href=\"https://colab.research.google.com/github/tarunku/open_llm/blob/main/How_to_Build_LangChain_Agents_2.ipynb\" target=\"_parent\"><img src=\"https://colab.research.google.com/assets/colab-badge.svg\" alt=\"Open In Colab\"/></a>"
      ]
    },
    {
      "cell_type": "markdown",
      "source": [
        "**let’s launch the xterm terminal within our Colab cell**"
      ],
      "metadata": {
        "id": "qUoZnohWUflt"
      }
    },
    {
      "cell_type": "code",
      "source": [
        "!pip install colab-xterm\n",
        "!curl https://ollama.ai/install.sh | sh\n",
        "%load_ext colabxterm"
      ],
      "metadata": {
        "id": "DOV17X-MRR9r"
      },
      "execution_count": null,
      "outputs": []
    },
    {
      "cell_type": "code",
      "source": [
        "%xterm\n",
        " # ollama serve &"
      ],
      "metadata": {
        "id": "IdORs51XUu0k"
      },
      "execution_count": null,
      "outputs": []
    },
    {
      "cell_type": "code",
      "source": [
        "!ollama pull llama3\n",
        "!ollama pull mistral"
      ],
      "metadata": {
        "collapsed": true,
        "id": "F3qnKgxRaQzr"
      },
      "execution_count": null,
      "outputs": []
    },
    {
      "cell_type": "code",
      "source": [
        "!ollama list"
      ],
      "metadata": {
        "id": "LZcvakbVVUG0"
      },
      "execution_count": null,
      "outputs": []
    },
    {
      "cell_type": "code",
      "source": [
        "!ollama --version"
      ],
      "metadata": {
        "id": "ormiJzbpRzfc"
      },
      "execution_count": null,
      "outputs": []
    },
    {
      "cell_type": "code",
      "source": [
        "!pip install -qU langchain langchain_community langchain-ollama langgraph wikipedia youtube_search"
      ],
      "metadata": {
        "id": "j9USi4zxTGFc"
      },
      "execution_count": null,
      "outputs": []
    },
    {
      "cell_type": "code",
      "source": [
        "from langchain_community.tools import WikipediaQueryRun  # pip install wikipedia\n",
        "from langchain_community.utilities import WikipediaAPIWrapper\n",
        "from langchain_community.tools import YouTubeSearchTool  # pip install youtube_search\n",
        "from langchain_community.tools.openai_dalle_image_generation import (\n",
        "   OpenAIDALLEImageGenerationTool\n",
        ")\n",
        "from langchain_community.utilities.dalle_image_generator import DallEAPIWrapper\n",
        "\n",
        "from langchain import HuggingFaceHub\n",
        "from langchain.llms import HuggingFacePipeline\n",
        "\n",
        "import os\n",
        "\n",
        "from langchain.llms import Ollama\n",
        "from langchain.chat_models import ChatOllama\n",
        "\n",
        "from IPython.display import Image, display, YouTubeVideo\n",
        "from google.colab import userdata\n",
        "\n",
        "os.environ['OPENAI_API_KEY'] = userdata.get('OPENAI_API_KEY')\n",
        "os.environ[\"LANGSMITH_API_KEY\"] = userdata.get(\"LANGSMITH_API_KEY\")\n"
      ],
      "metadata": {
        "id": "YP3So4uPsBCG"
      },
      "execution_count": null,
      "outputs": []
    },
    {
      "cell_type": "code",
      "source": [
        "# Set up the OpenAI model,\n",
        "llm = ChatOllama(model=\"llama3\")"
      ],
      "metadata": {
        "id": "GfhBGxxtsA6C"
      },
      "execution_count": null,
      "outputs": []
    },
    {
      "cell_type": "code",
      "source": [
        "#Tools\n",
        "\n",
        "import ast\n",
        "import re\n",
        "\n",
        "def wikipedia(toic:str):\n",
        "  print(\"wikipedia**************\")\n",
        "  wiki_api_wrapper = WikipediaAPIWrapper(top_k_results=1, doc_content_chars_max=250)\n",
        "  wikipedia = WikipediaQueryRun(api_wrapper=wiki_api_wrapper)\n",
        "  return wikipedia.invoke(toic)\n",
        "\n",
        "\n",
        "def dalle(topic:str):\n",
        "  dalle_api_wrapper = DallEAPIWrapper(model=\"dall-e-3\", size=\"1024x1024\")\n",
        "\n",
        "  dalle = OpenAIDALLEImageGenerationTool(\n",
        "    api_wrapper=dalle_api_wrapper\n",
        "  )\n",
        "\n",
        "  image_url = dalle.invoke(topic)\n",
        "  return image_url\n",
        "\n",
        "def youtube(topic:str):\n",
        "  youtube = YouTubeSearchTool()\n",
        "  results = youtube.run(topic)\n",
        "  results_list = ast.literal_eval(results)\n",
        "  return results_list\n"
      ],
      "metadata": {
        "id": "n7268ZqBsAx1"
      },
      "execution_count": null,
      "outputs": []
    },
    {
      "cell_type": "code",
      "source": [
        "#Agent\n",
        "from langchain.prompts.prompt import PromptTemplate\n",
        "from langchain_core.tools import Tool\n",
        "from langchain.agents import (\n",
        "    create_react_agent,\n",
        "    AgentExecutor\n",
        ")\n",
        "from langchain import hub\n",
        "\n",
        "def agent_007(topic: str) -> str:\n",
        "\n",
        "    template = \"\"\"\n",
        "   You are a helpful bot named Chandler. Your task is to explain topic {topic_name}\n",
        "   asked by the user via three mediums: text, image or video.\n",
        "\n",
        "   If the asked topic is best explained in text format, use the Wikipedia tool.\n",
        "   If the topic is best explained by showing a picture of it, generate an image\n",
        "   of the topic using Dall-E image generator and print the image URL.\n",
        "   Finally, if video is the best medium to explain the topic, conduct a YouTube search on it\n",
        "   and return found video links.\n",
        "   \"\"\"\n",
        "\n",
        "    prompt_template = PromptTemplate(\n",
        "        template=template, input_variables=[\"topic_name\"]\n",
        "    )\n",
        "\n",
        "    tools_for_agent = [\n",
        "        Tool(\n",
        "            name=\"Wikipedia tool\",\n",
        "            func=wikipedia,\n",
        "            description=\"A tool to explain things in text format. Use this tool if you think the user’s asked concept is best explained through text.\",\n",
        "        ),\n",
        "        Tool(\n",
        "            name=\"Dall-E image generator\",\n",
        "            func=dalle,\n",
        "            description=\"A tool to generate images. Use this tool if you think the user’s asked concept is best explained through an image.\",\n",
        "        ),\n",
        "        Tool(\n",
        "            name=\"Youtube Search tool\",\n",
        "            func=youtube,\n",
        "            description=\"A tool to search YouTube videos. Use this tool if you think the user’s asked concept can be best explained by watching a video.\",\n",
        "        )\n",
        "    ]\n",
        "\n",
        "    react_prompt = hub.pull(\"hwchase17/react\")\n",
        "\n",
        "    agent = create_react_agent(llm=llm, tools=tools_for_agent, prompt=react_prompt)\n",
        "    agent_executor = AgentExecutor(agent=agent, tools=tools_for_agent, verbose=True)\n",
        "\n",
        "\n",
        "    result = agent_executor.invoke(\n",
        "        input={\"input\": prompt_template.format_prompt(topic_name=topic)}\n",
        "    )\n",
        "\n",
        "    return result[\"output\"]"
      ],
      "metadata": {
        "id": "lSXQaTihsvur"
      },
      "execution_count": null,
      "outputs": []
    },
    {
      "cell_type": "code",
      "source": [
        "agent_007('what is the most famous Lata mangeskar song on youtube?')"
      ],
      "metadata": {
        "id": "ZV_8KRzXsvjV"
      },
      "execution_count": null,
      "outputs": []
    },
    {
      "cell_type": "code",
      "source": [
        "agent_007('a video help on how to ride bicycle?')"
      ],
      "metadata": {
        "id": "Wz9L3LRPsvW-"
      },
      "execution_count": null,
      "outputs": []
    }
  ]
}